{
 "cells": [
  {
   "cell_type": "code",
   "execution_count": 1,
   "id": "logical-bracket",
   "metadata": {},
   "outputs": [],
   "source": [
    "import numpy as np\n",
    "import matplotlib.pyplot as plt\n",
    "from math import*\n",
    "from scipy.integrate import quad"
   ]
  },
  {
   "cell_type": "code",
   "execution_count": 2,
   "id": "damaged-doubt",
   "metadata": {},
   "outputs": [],
   "source": [
    "kappas = {'relu': (1/np.sqrt(2*np.pi), 0.5, np.sqrt((np.pi-2)/(4*np.pi))), \n",
    "               'erf': (0, 2/np.sqrt(3*np.pi), 0.200364), 'tanh': (0, 0.605706, 0.165576),\n",
    "               'sign': (0, np.sqrt(2/np.pi), np.sqrt(1-2/np.pi)),\n",
    "         \"id\":(0,1,0)}"
   ]
  },
  {
   "cell_type": "code",
   "execution_count": 3,
   "id": "earned-preliminary",
   "metadata": {},
   "outputs": [
    {
     "name": "stdout",
     "output_type": "stream",
     "text": [
      "1.0 1.0 1.0\n"
     ]
    }
   ],
   "source": [
    "d=500\n",
    "k1=700\n",
    "k2=700\n",
    "\n",
    "activ=\"tanh2x\"\n",
    "\n",
    "gamma1=k1/d\n",
    "gamma2=k2/d\n",
    "\n",
    "\n",
    "Sigma=np.ones(d)\n",
    "\n",
    "Delta1=Delta2=Deltaa=1.\n",
    "\n",
    "Delta=.00\n",
    "\n",
    "\n",
    "\n",
    "rho0=np.sum(Sigma)/d*Delta1*Delta2*Deltaa\n",
    "rho1=Delta2*Deltaa\n",
    "rhoa=Deltaa\n",
    "\n",
    "print(rho0,rho1,rhoa)\n"
   ]
  },
  {
   "cell_type": "code",
   "execution_count": 4,
   "id": "funky-lloyd",
   "metadata": {},
   "outputs": [],
   "source": [
    "f=lambda x: np.tanh(2*x)#.5*x*(1+np.tanh(np.sqrt(2/np.pi)*(x+0.044715*x**3)))-0.28203858807#np.tanh(2*x)\n",
    "\n",
    "r1=Delta1*np.mean(Sigma)\n",
    "\n",
    "k11=quad(lambda x: np.exp(-.5*x**2/r1)*x*f(x)/np.sqrt(2*np.pi*r1),-np.inf,np.inf)[0]/r1\n",
    "\n",
    "\n",
    "var1=quad(lambda x: np.exp(-.5*x**2/r1)*f(x)**2/np.sqrt(2*np.pi*r1),-np.inf,np.inf)[0]\n",
    "ks1=np.sqrt(var1-r1*k11**2)\n",
    "\n",
    "k11,ks1=k11**2,ks1**2\n",
    "\n",
    "r2=Delta2*var1\n",
    "\n",
    "k12=quad(lambda x: np.exp(-.5*x**2/r2)*x*f(x)/np.sqrt(2*np.pi*r2),-np.inf,np.inf)[0]/r2\n",
    "\n",
    "\n",
    "var2=quad(lambda x: np.exp(-.5*x**2/r2)*f(x)**2/np.sqrt(2*np.pi*r2),-np.inf,np.inf)[0]\n",
    "ks2=np.sqrt(var2-r2*k12**2)\n",
    "\n",
    "k12,ks2=k12**2,ks2**2\n",
    "\n"
   ]
  },
  {
   "cell_type": "code",
   "execution_count": 5,
   "id": "marked-renaissance",
   "metadata": {},
   "outputs": [],
   "source": [
    "def update_overlaps(qwhat,qahat):\n",
    "    qa=0\n",
    "    qw=(Delta1*Delta2*Deltaa)**2*np.mean(qwhat*Sigma**2/(1+qwhat*Delta1*Delta2*Deltaa*Sigma))\n",
    "    \n",
    "    return qw,qa"
   ]
  },
  {
   "cell_type": "code",
   "execution_count": 7,
   "id": "monthly-purchase",
   "metadata": {},
   "outputs": [],
   "source": [
    "def update_hat_overlaps(alpha,qw,qa):\n",
    "    qwhat=alpha*k11*k12/(Delta+k12*k11*(rho0-qw)+ks1*k12*rho1+ks2*rhoa)\n",
    "    qahat=0\n",
    "    return qwhat,qahat\n",
    "    \n",
    "    "
   ]
  },
  {
   "cell_type": "code",
   "execution_count": 8,
   "id": "original-stage",
   "metadata": {},
   "outputs": [],
   "source": [
    "damping=0.1\n",
    "\n",
    "def damp(new, old):\n",
    "        return (1-damping) * new + damping * old"
   ]
  },
  {
   "cell_type": "code",
   "execution_count": 10,
   "id": "opponent-shape",
   "metadata": {},
   "outputs": [],
   "source": [
    "\n",
    "\n",
    "def iterate(alpha,max_iter=10000,tol=1e-15,init=None,verbose=False):\n",
    "    last_flip=None\n",
    "    qw,qa=.000001, .0000001\n",
    "    qwhat,qahat=0,0\n",
    "    for i in range(max_iter):\n",
    "        qwhat,qahat=update_hat_overlaps(alpha,qw,qa)\n",
    "        qw_tmp,qa_tmp=update_overlaps(qwhat,qahat)\n",
    "        if max([np.abs(qw_tmp-qw),np.abs(qa_tmp-qa)])<tol:\n",
    "            if verbose:\n",
    "                print(\"convcerged after {} steps\".format(i))\n",
    "            return qw,qa,qwhat,qahat\n",
    "        \n",
    "        qw=damp(qw_tmp,qw)\n",
    "        qa=damp(qa_tmp,qa)\n",
    "       \n",
    "        \n",
    "        if verbose:\n",
    "            print(\"qw{} qa{} \".format(qw,qa))\n",
    "        \n",
    "        \n",
    "        \n",
    "    print(alpha, \"Not converged\")\n",
    "\n",
    "    return qw,qa,qwhat,qahat\n",
    "        \n",
    "        \n",
    "        "
   ]
  },
  {
   "cell_type": "code",
   "execution_count": 11,
   "id": "convertible-springfield",
   "metadata": {},
   "outputs": [],
   "source": [
    "def get_error(alphas):\n",
    "    Eg=[]\n",
    "    Qa=[]\n",
    "    Qw=[]\n",
    "    for alpha in alphas:\n",
    "        qw,qa,qwhat,qahat=iterate(alpha)\n",
    "        print(\"alpha {} qw{},  qa{}, qahat{}, qwhat{}\".format(alpha,qw,qa,qahat,qwhat))\n",
    "        eg=k12*k11*(rho0-qw)+ks1*k12*rho1+ks2*rhoa\n",
    "        Eg.append(eg)\n",
    "        Qa.append(qa)\n",
    "        Qw.append(qw)\n",
    "        \n",
    "    return Eg,Qa,Qw\n",
    "        \n",
    "        \n",
    "        \n",
    "        "
   ]
  },
  {
   "cell_type": "code",
   "execution_count": 12,
   "id": "headed-magnet",
   "metadata": {},
   "outputs": [
    {
     "name": "stdout",
     "output_type": "stream",
     "text": [
      "alpha 0.0 qw1.0000000000000005e-16,  qa1.0000000000000005e-17, qahat0, qwhat0.0\n",
      "alpha 0.10289855072463767 qw0.07337788532548392,  qa1.0000000000000008e-24, qahat0, qwhat0.07918857554059028\n",
      "alpha 0.20579710144927535 qw0.14339330403219627,  qa1.000000000000001e-27, qahat0, qwhat0.1673968983749181\n",
      "alpha 0.30869565217391304 qw0.2097493778206021,  qa1.0000000000000011e-30, qahat0, qwhat0.26542133841305143\n",
      "alpha 0.4115942028985507 qw0.27218210728198994,  qa1.0000000000000013e-32, qahat0, qwhat0.37397006861913806\n",
      "alpha 0.5144927536231884 qw0.33048062127482597,  qa1.0000000000000014e-34, qahat0, qwhat0.4936087464773496\n",
      "alpha 0.6173913043478261 qw0.384505777139231,  qa1.0000000000000016e-36, qahat0, qwhat0.6247106193005021\n",
      "alpha 0.7202898550724637 qw0.4342036429922266,  qa1.0000000000000018e-38, qahat0, qwhat0.7674203582513736\n",
      "alpha 0.8231884057971014 qw0.47961098582241635,  qa1.0000000000000019e-39, qahat0, qwhat0.9216393366420101\n",
      "alpha 0.9260869565217391 qw0.5208515141038078,  qa1.000000000000002e-40, qahat0, qwhat1.087035709044592\n",
      "alpha 1.0289855072463767 qw0.5581237364897884,  qa1.000000000000002e-41, qahat0, qwhat1.2630769800942074\n",
      "alpha 1.1318840579710143 qw0.5916830727775652,  qa1.0000000000000021e-42, qahat0, qwhat1.449077991457457\n",
      "alpha 1.2347826086956522 qw0.6218216602919319,  qa1.0000000000000021e-42, qahat0, qwhat1.6442550907911444\n",
      "alpha 1.3376811594202898 qw0.6488490288628243,  qa1.0000000000000021e-42, qahat0, qwhat1.8477779707160669\n",
      "alpha 1.4405797101449274 qw0.6730758310624402,  qa1.0000000000000021e-42, qahat0, qwhat2.058813312120082\n",
      "alpha 1.5434782608695652 qw0.6948016352205736,  qa1.0000000000000021e-42, qahat0, qwhat2.27655752914248\n",
      "alpha 1.6463768115942028 qw0.7143068164985317,  qa1.0000000000000021e-42, qahat0, qwhat2.500258521200815\n",
      "alpha 1.7492753623188404 qw0.7318479817849962,  qa1.0000000000000021e-42, qahat0, qwhat2.729227945613313\n",
      "alpha 1.8521739130434782 qw0.7476561158500963,  qa1.0000000000000021e-42, qahat0, qwhat2.962846190502306\n",
      "alpha 1.9550724637681158 qw0.7619366307786235,  qa1.000000000000002e-41, qahat0, qwhat3.200562242190634\n",
      "alpha 2.0579710144927534 qw0.7748706227865788,  qa1.000000000000002e-41, qahat0, qwhat3.441890313817236\n",
      "alpha 2.160869565217391 qw0.7866168049168231,  qa1.000000000000002e-40, qahat0, qwhat3.68640466092094\n",
      "alpha 2.2637681159420286 qw0.7973137417364808,  qa1.000000000000002e-40, qahat0, qwhat3.933733586910807\n",
      "alpha 2.3666666666666667 qw0.8070821416707716,  qa1.000000000000002e-40, qahat0, qwhat4.183553293927969\n",
      "alpha 2.4695652173913043 qw0.8160270593672718,  qa1.0000000000000019e-39, qahat0, qwhat4.435581975048919\n",
      "alpha 2.572463768115942 qw0.8242399279403594,  qa1.0000000000000019e-39, qahat0, qwhat4.6895743628318005\n",
      "alpha 2.6753623188405795 qw0.8318003853177621,  qa1.0000000000000018e-38, qahat0, qwhat4.945316830179427\n",
      "alpha 2.778260869565217 qw0.8387778864791425,  qa1.0000000000000018e-38, qahat0, qwhat5.202623065542626\n",
      "alpha 2.8811594202898547 qw0.8452331093859577,  qa1.0000000000000018e-38, qahat0, qwhat5.46133030154235\n",
      "alpha 2.9840579710144928 qw0.8512191708207255,  qa1.0000000000000017e-37, qahat0, qwhat5.721296053505973\n",
      "alpha 3.0869565217391304 qw0.8567826720001794,  qa1.0000000000000017e-37, qahat0, qwhat5.982395314631601\n",
      "alpha 3.189855072463768 qw0.861964594612736,  qa1.0000000000000017e-37, qahat0, qwhat6.244518152386049\n",
      "alpha 3.2927536231884056 qw0.866801067106385,  qa1.0000000000000016e-36, qahat0, qwhat6.507567652953343\n",
      "alpha 3.395652173913043 qw0.8713240194087911,  qa1.0000000000000016e-36, qahat0, qwhat6.7714581649616985\n",
      "alpha 3.498550724637681 qw0.8755617422789358,  qa1.0000000000000015e-35, qahat0, qwhat7.036113799034111\n",
      "alpha 3.6014492753623184 qw0.8795393654505063,  qa1.0000000000000015e-35, qahat0, qwhat7.301467145178743\n",
      "alpha 3.7043478260869565 qw0.8832792667853746,  qa1.0000000000000015e-35, qahat0, qwhat7.567458175243057\n",
      "alpha 3.807246376811594 qw0.8868014228870664,  qa1.0000000000000015e-35, qahat0, qwhat7.834033302400474\n",
      "alpha 3.9101449275362317 qw0.8901237100579114,  qa1.0000000000000015e-35, qahat0, qwhat8.101144573839008\n",
      "alpha 4.01304347826087 qw0.8932621631221874,  qa1.0000000000000014e-34, qahat0, qwhat8.36874897647353\n",
      "alpha 4.115942028985507 qw0.8962311984689993,  qa1.0000000000000014e-34, qahat0, qwhat8.636807838637877\n",
      "alpha 4.218840579710145 qw0.899043806674302,  qa1.0000000000000014e-34, qahat0, qwhat8.905286313380218\n",
      "alpha 4.321739130434782 qw0.901711719220442,  qa1.0000000000000014e-33, qahat0, qwhat9.174152931241306\n",
      "alpha 4.42463768115942 qw0.9042455531230149,  qa1.0000000000000014e-33, qahat0, qwhat9.443379212296003\n",
      "alpha 4.527536231884057 qw0.9066549366793883,  qa1.0000000000000014e-33, qahat0, qwhat9.71293932883536\n",
      "alpha 4.630434782608695 qw0.9089486190536282,  qa1.0000000000000014e-33, qahat0, qwhat9.982809811407389\n",
      "alpha 4.733333333333333 qw0.9111345659935488,  qa1.0000000000000014e-33, qahat0, qwhat10.252969292058003\n",
      "alpha 4.8362318840579706 qw0.9132200436242758,  qa1.0000000000000013e-32, qahat0, qwhat10.52339827955652\n",
      "alpha 4.939130434782609 qw0.915211691967924,  qa1.0000000000000013e-32, qahat0, qwhat10.794078962180745\n",
      "alpha 5.042028985507246 qw0.9171155895914542,  qa1.0000000000000013e-32, qahat0, qwhat11.064995034300246\n",
      "alpha 5.144927536231884 qw0.9189373105767175,  qa1.0000000000000013e-32, qahat0, qwhat11.336131543555553\n",
      "alpha 5.247826086956521 qw0.9206819748314746,  qa1.0000000000000013e-32, qahat0, qwhat11.607474755899744\n",
      "alpha 5.350724637681159 qw0.9223542926125186,  qa1.0000000000000012e-31, qahat0, qwhat11.87901203616621\n",
      "alpha 5.453623188405797 qw0.9239586040072512,  qa1.0000000000000012e-31, qahat0, qwhat12.15073174216014\n",
      "alpha 5.556521739130434 qw0.9254989140145304,  qa1.0000000000000012e-31, qahat0, qwhat12.422623130554726\n",
      "alpha 5.659420289855072 qw0.9269789237761472,  qa1.0000000000000012e-31, qahat0, qwhat12.694676273113533\n",
      "alpha 5.7623188405797094 qw0.928402058434274,  qa1.0000000000000012e-31, qahat0, qwhat12.966881981963393\n",
      "alpha 5.8652173913043475 qw0.9297714920255796,  qa1.0000000000000012e-31, qahat0, qwhat13.239231742816447\n",
      "alpha 5.9681159420289855 qw0.9310901697675638,  qa1.0000000000000011e-30, qahat0, qwhat13.511717655187518\n",
      "alpha 6.071014492753623 qw0.9323608280455509,  qa1.0000000000000012e-31, qahat0, qwhat13.784332378779581\n",
      "alpha 6.173913043478261 qw0.9335860123684279,  qa1.0000000000000012e-31, qahat0, qwhat14.057069085317467\n",
      "alpha 6.276811594202898 qw0.9347680935266773,  qa1.0000000000000011e-30, qahat0, qwhat14.329921415204648\n",
      "alpha 6.379710144927536 qw0.935909282156439,  qa1.0000000000000011e-30, qahat0, qwhat14.6028834384554\n",
      "alpha 6.482608695652173 qw0.9370116418877718,  qa1.0000000000000011e-30, qahat0, qwhat14.875949619424652\n",
      "alpha 6.585507246376811 qw0.9380771012331915,  qa1.0000000000000011e-30, qahat0, qwhat15.149114784917387\n",
      "alpha 6.688405797101449 qw0.9391074643534266,  qa1.0000000000000011e-30, qahat0, qwhat15.422374095309683\n",
      "alpha 6.791304347826086 qw0.9401044208208053,  qa1.0000000000000011e-30, qahat0, qwhat15.695723018358661\n",
      "alpha 6.894202898550724 qw0.9410695544863152,  qa1.0000000000000011e-30, qahat0, qwhat15.969157305416728\n",
      "alpha 6.997101449275362 qw0.9420043515438985,  qa1.0000000000000011e-30, qahat0, qwhat16.242672969799322\n",
      "alpha 7.1 qw0.9429102078746567,  qa1.0000000000000011e-30, qahat0, qwhat16.516266267084216\n"
     ]
    }
   ],
   "source": [
    "alphas=np.linspace(.0,7.1,70)\n",
    "Eg,Qa,Qw=get_error(alphas)"
   ]
  },
  {
   "cell_type": "code",
   "execution_count": 14,
   "id": "appropriate-scott",
   "metadata": {},
   "outputs": [
    {
     "data": {
      "text/plain": [
       "<matplotlib.legend.Legend at 0x260da5b0c40>"
      ]
     },
     "execution_count": 14,
     "metadata": {},
     "output_type": "execute_result"
    },
    {
     "data": {
      "image/png": "[encoded data removed]",
      "text/plain": [
       "<Figure size 432x288 with 1 Axes>"
      ]
     },
     "metadata": {
      "needs_background": "light"
     },
     "output_type": "display_data"
    }
   ],
   "source": [
    "plt.plot(alphas,np.array(Eg), label=\"replica\")\n",
    "\n",
    "\n",
    "\n",
    "plt.title(r\"{}, input dim d={}, width={},  $\\sigma=${}\".format(activ,d,(k1,k2),(Delta1,Delta2)))\n",
    "plt.errorbar(alphas,alphas**0*(ks2*rhoa+k12*ks1*rho1),ls=\"--\",c=\"black\")\n",
    "plt.ylabel(r\"$\\epsilon_g$\")\n",
    "plt.xlabel(r\"$\\alpha=n/d$\")\n",
    "plt.legend()\n"
   ]
  }
 ],
 "metadata": {
  "kernelspec": {
   "display_name": "Python 3",
   "language": "python",
   "name": "python3"
  },
  "language_info": {
   "codemirror_mode": {
    "name": "ipython",
    "version": 3
   },
   "file_extension": ".py",
   "mimetype": "text/x-python",
   "name": "python",
   "nbconvert_exporter": "python",
   "pygments_lexer": "ipython3",
   "version": "3.8.8"
  }
 },
 "nbformat": 4,
 "nbformat_minor": 5
}
