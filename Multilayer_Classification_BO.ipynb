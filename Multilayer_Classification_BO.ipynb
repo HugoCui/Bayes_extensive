{
 "cells": [
  {
   "cell_type": "code",
   "execution_count": 19,
   "id": "logical-bracket",
   "metadata": {},
   "outputs": [],
   "source": [
    "import numpy as np\n",
    "import matplotlib.pyplot as plt\n",
    "from math import*\n",
    "from scipy.integrate import quad\n",
    "from scipy.special import erf"
   ]
  },
  {
   "cell_type": "code",
   "execution_count": 20,
   "id": "earned-preliminary",
   "metadata": {},
   "outputs": [
    {
     "name": "stdout",
     "output_type": "stream",
     "text": [
      "1.0 1.0 1.0\n"
     ]
    }
   ],
   "source": [
    "d=500\n",
    "k1=700\n",
    "k2=700\n",
    "\n",
    "activ=\"tanh2x\"\n",
    "\n",
    "gamma1=k1/d\n",
    "gamma2=k2/d\n",
    "\n",
    "\n",
    "Sigma=np.ones(d)\n",
    "\n",
    "Delta1=Delta2=Deltaa=1.\n",
    "\n",
    "Delta=.00\n",
    "\n",
    "\n",
    "\n",
    "rho0=np.sum(Sigma)/d*Delta1*Delta2*Deltaa\n",
    "rho1=Delta2*Deltaa\n",
    "rhoa=Deltaa\n",
    "\n",
    "print(rho0,rho1,rhoa)\n"
   ]
  },
  {
   "cell_type": "code",
   "execution_count": 21,
   "id": "funky-lloyd",
   "metadata": {},
   "outputs": [],
   "source": [
    "f=lambda x: np.tanh(2*x)\n",
    "\n",
    "r1=Delta1*np.mean(Sigma)\n",
    "\n",
    "k11=quad(lambda x: np.exp(-.5*x**2/r1)*x*f(x)/np.sqrt(2*np.pi*r1),-np.inf,np.inf)[0]/r1\n",
    "\n",
    "\n",
    "var1=quad(lambda x: np.exp(-.5*x**2/r1)*f(x)**2/np.sqrt(2*np.pi*r1),-np.inf,np.inf)[0]\n",
    "ks1=np.sqrt(var1-r1*k11**2)\n",
    "\n",
    "k11,ks1=k11**2,ks1**2\n",
    "\n",
    "r2=Delta2*var1\n",
    "\n",
    "k12=quad(lambda x: np.exp(-.5*x**2/r2)*x*f(x)/np.sqrt(2*np.pi*r2),-np.inf,np.inf)[0]/r2\n",
    "\n",
    "\n",
    "var2=quad(lambda x: np.exp(-.5*x**2/r2)*f(x)**2/np.sqrt(2*np.pi*r2),-np.inf,np.inf)[0]\n",
    "ks2=np.sqrt(var2-r2*k12**2)\n",
    "\n",
    "k12,ks2=k12**2,ks2**2\n",
    "\n"
   ]
  },
  {
   "cell_type": "code",
   "execution_count": 22,
   "id": "marked-renaissance",
   "metadata": {},
   "outputs": [],
   "source": [
    "def update_overlaps(qwhat,qahat):\n",
    "    qa=0\n",
    "    qw=np.mean(qwhat*Sigma**2/(1+qwhat*Sigma))\n",
    "    \n",
    "    return qw,qa"
   ]
  },
  {
   "cell_type": "code",
   "execution_count": 23,
   "id": "intended-attack",
   "metadata": {},
   "outputs": [],
   "source": [
    "def log_erf(x):\n",
    "    if x<4:\n",
    "        return np.log(1-erf(x))\n",
    "    else:\n",
    "        return -x**2 -.5*np.log(np.pi)-np.log(x)"
   ]
  },
  {
   "cell_type": "code",
   "execution_count": 24,
   "id": "monthly-purchase",
   "metadata": {},
   "outputs": [],
   "source": [
    "def update_hat_overlaps(alpha,qw,qa):\n",
    "   \n",
    "    q=qw\n",
    "    \n",
    "    rho=k11*k12*rho0+k12*ks1*rho1+ks2*rhoa+Delta\n",
    "    \n",
    "    \n",
    "    \n",
    "    multiplier=2*alpha*k11*k12/(rho-k11*k12*q)**.5/(2*np.pi)**1.5\n",
    "    \n",
    "    integral=quad(lambda x: np.exp(-.5*(rho+k11*k12*q)*x**2+np.log(2)\n",
    "                                   -log_erf(np.sqrt(k11*k12*q)*x/np.sqrt(2))),-20,20)[0]\n",
    "    #print(\"rho, k1q\",rho,k1*q)\n",
    "    #print(\"integral\",integral)\n",
    "    qwhat=multiplier*integral\n",
    "    return qwhat,0\n",
    "    \n",
    "    "
   ]
  },
  {
   "cell_type": "code",
   "execution_count": 25,
   "id": "original-stage",
   "metadata": {},
   "outputs": [],
   "source": [
    "\n",
    "\n",
    "def damp(new, old,damping):\n",
    "        return (1-damping) * new + damping * old"
   ]
  },
  {
   "cell_type": "code",
   "execution_count": 26,
   "id": "hispanic-winner",
   "metadata": {},
   "outputs": [],
   "source": [
    "def error(q):\n",
    "    #print(np.sqrt(k1*q/(k1*rhow+ks*rhoa+Delta)))\n",
    "    eg=np.arccos(np.sqrt(k11*k12*q/(k11*k12*rho0+k12*ks1*rho1+ks2*rhoa+Delta)))/np.pi\n",
    "    return eg"
   ]
  },
  {
   "cell_type": "code",
   "execution_count": 27,
   "id": "opponent-shape",
   "metadata": {},
   "outputs": [],
   "source": [
    "\n",
    "\n",
    "def iterate(alpha,max_iter=10000,tol=1e-13,init=None,verbose=False,damping=0.1):\n",
    "    last_flip=None\n",
    "    qw,qa=.000001, .0000001\n",
    "    qwhat,qahat=0,0\n",
    "    for i in range(max_iter):\n",
    "        qwhat,qahat=update_hat_overlaps(alpha,qw,qa)\n",
    "        #print(\"qwhat\",qwhat)\n",
    "        qw_tmp,qa_tmp=update_overlaps(qwhat,qahat)\n",
    "        if max([np.abs(qw_tmp-qw),np.abs(qa_tmp-qa)])<tol:\n",
    "            if verbose:\n",
    "                print(\"convcerged after {} steps\".format(i))\n",
    "            return qw,qa,qwhat,qahat\n",
    "        \n",
    "        qw=damp(qw_tmp,qw,damping)\n",
    "        qa=damp(qa_tmp,qa,damping)\n",
    "       \n",
    "        \n",
    "        if verbose:\n",
    "            print(\"qw{} qwhat{}  \".format(qw,qwhat))\n",
    "        \n",
    "       \n",
    "        \n",
    "    print(alpha, \"Not converged\")\n",
    "\n",
    "    return qw,qa,qwhat,qahat\n",
    "        \n",
    "        \n",
    "        "
   ]
  },
  {
   "cell_type": "code",
   "execution_count": 28,
   "id": "convertible-springfield",
   "metadata": {},
   "outputs": [],
   "source": [
    "def get_error(alphas):\n",
    "    Eg=[]\n",
    "    Qa=[]\n",
    "    Qw=[]\n",
    "    for alpha in alphas:\n",
    "        print(\"sample complexity\",alpha)\n",
    "        qw,qa,qwhat,qahat=iterate(alpha)\n",
    "        #print(\"alpha {} qw{},  qa{}, qahat{}, qwhat{}\".format(alpha,qw,qa,qahat,qwhat))\n",
    "        eg=error(qw)\n",
    "        Eg.append(eg)\n",
    "        Qa.append(qa)\n",
    "        Qw.append(qw)\n",
    "        \n",
    "    return Eg,Qa,Qw\n",
    "        \n",
    "        \n",
    "        \n",
    "        "
   ]
  },
  {
   "cell_type": "code",
   "execution_count": 29,
   "id": "headed-magnet",
   "metadata": {
    "scrolled": true
   },
   "outputs": [
    {
     "name": "stdout",
     "output_type": "stream",
     "text": [
      "sample complexity 0.1\n",
      "sample complexity 0.33793103448275863\n",
      "sample complexity 0.5758620689655173\n",
      "sample complexity 0.8137931034482758\n",
      "sample complexity 1.0517241379310345\n",
      "sample complexity 1.2896551724137932\n",
      "sample complexity 1.5275862068965518\n",
      "sample complexity 1.7655172413793105\n",
      "sample complexity 2.003448275862069\n",
      "sample complexity 2.241379310344828\n",
      "sample complexity 2.4793103448275864\n",
      "sample complexity 2.717241379310345\n",
      "sample complexity 2.9551724137931035\n",
      "sample complexity 3.193103448275862\n",
      "sample complexity 3.431034482758621\n",
      "sample complexity 3.6689655172413795\n",
      "sample complexity 3.906896551724138\n",
      "sample complexity 4.144827586206897\n",
      "sample complexity 4.382758620689655\n",
      "sample complexity 4.620689655172414\n",
      "sample complexity 4.858620689655172\n",
      "sample complexity 5.096551724137931\n",
      "sample complexity 5.334482758620689\n",
      "sample complexity 5.572413793103448\n",
      "sample complexity 5.810344827586206\n",
      "sample complexity 6.048275862068965\n",
      "sample complexity 6.2862068965517235\n",
      "sample complexity 6.524137931034483\n",
      "sample complexity 6.7620689655172415\n",
      "sample complexity 7.0\n"
     ]
    }
   ],
   "source": [
    "alphas=np.linspace(.1,7,30)\n",
    "Eg,Qa,Qw=get_error(alphas)"
   ]
  },
  {
   "cell_type": "code",
   "execution_count": 30,
   "id": "appropriate-scott",
   "metadata": {},
   "outputs": [
    {
     "data": {
      "text/plain": [
       "<matplotlib.legend.Legend at 0x1aaf9d41fa0>"
      ]
     },
     "execution_count": 30,
     "metadata": {},
     "output_type": "execute_result"
    },
    {
     "data": {
      "image/png": "[encoded data removed]",
      "text/plain": [
       "<Figure size 432x288 with 1 Axes>"
      ]
     },
     "metadata": {
      "needs_background": "light"
     },
     "output_type": "display_data"
    }
   ],
   "source": [
    "plt.plot(alphas,np.array(Eg), label=\"replica\")\n",
    "\n",
    "\n",
    "\n",
    "plt.ylabel(r\"$\\epsilon_g$\")\n",
    "plt.xlabel(r\"$\\alpha=n/d$\")\n",
    "plt.legend()\n"
   ]
  },
  {
   "cell_type": "code",
   "execution_count": null,
   "id": "christian-examination",
   "metadata": {},
   "outputs": [],
   "source": []
  }
 ],
 "metadata": {
  "kernelspec": {
   "display_name": "Python 3",
   "language": "python",
   "name": "python3"
  },
  "language_info": {
   "codemirror_mode": {
    "name": "ipython",
    "version": 3
   },
   "file_extension": ".py",
   "mimetype": "text/x-python",
   "name": "python",
   "nbconvert_exporter": "python",
   "pygments_lexer": "ipython3",
   "version": "3.8.8"
  }
 },
 "nbformat": 4,
 "nbformat_minor": 5
}
