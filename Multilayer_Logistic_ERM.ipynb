{
 "cells": [
  {
   "cell_type": "code",
   "execution_count": 2,
   "id": "hollow-father",
   "metadata": {},
   "outputs": [],
   "source": [
    "import numpy as np\n",
    "from scipy.integrate import quad\n",
    "import matplotlib.pyplot as plt\n",
    "import sys\n",
    "\n",
    "\n",
    "\n",
    "sys.path.insert(1, '../g3m_utils/')\n",
    "from state_evolution.data_models.custom import Custom,CustomSpectra\n",
    "from state_evolution.experiments.learning_curve import CustomExperiment\n",
    "import pandas as pd\n",
    "from scipy.special import erf\n",
    "from scipy.optimize import minimize_scalar"
   ]
  },
  {
   "cell_type": "code",
   "execution_count": 3,
   "id": "entitled-addition",
   "metadata": {},
   "outputs": [],
   "source": [
    "d=500\n",
    "\n",
    "k1=700\n",
    "k2=k1"
   ]
  },
  {
   "cell_type": "code",
   "execution_count": 4,
   "id": "satisfied-celebration",
   "metadata": {},
   "outputs": [],
   "source": [
    "Sigma=np.ones(d) #covariance matrix of data"
   ]
  },
  {
   "cell_type": "code",
   "execution_count": 5,
   "id": "scenic-monster",
   "metadata": {},
   "outputs": [
    {
     "name": "stdout",
     "output_type": "stream",
     "text": [
      "var1=0.6352612342569396 var2=0.5616006371936293\n"
     ]
    }
   ],
   "source": [
    "activ=\"tanh2x\"\n",
    "\n",
    "f1=lambda x: np.tanh(2*x)\n",
    "f2=lambda x: f1(x)#erf(x)\n",
    "\n",
    "r_1=np.mean(Sigma)\n",
    "\n",
    "k1_1=quad(lambda x: np.exp(-.5*x**2/r_1)*x*f1(x)/np.sqrt(2*np.pi*r_1),-np.inf,np.inf)[0]/r_1\n",
    "var_1=quad(lambda x: np.exp(-.5*x**2/r_1)*f1(x)**2/np.sqrt(2*np.pi*r_1),-np.inf,np.inf)[0]\n",
    "ks_1=np.sqrt(var_1-r_1*k1_1**2)\n",
    "\n",
    "r_2=var_1\n",
    "k1_2=quad(lambda x: np.exp(-.5*x**2/r_2)*x*f2(x)/np.sqrt(2*np.pi*r_2),-np.inf,np.inf)[0]/r_2\n",
    "var_2=quad(lambda x: np.exp(-.5*x**2/r_2)*f2(x)**2/np.sqrt(2*np.pi*r_2),-np.inf,np.inf)[0]\n",
    "ks_2=np.sqrt(var_2-r_2*k1_2**2)\n",
    "\n",
    "print(\"var1={} var2={}\".format(var_1,var_2))"
   ]
  },
  {
   "cell_type": "code",
   "execution_count": 6,
   "id": "impossible-constitutional",
   "metadata": {},
   "outputs": [],
   "source": [
    "teacher_activ=\"tanh2x\"\n",
    "\n",
    "ft=lambda x:  np.tanh(2*x)\n",
    "\n",
    "rt=np.mean(Sigma)\n",
    "\n",
    "k1_t=quad(lambda x: np.exp(-.5*x**2/rt)*x*ft(x)/np.sqrt(2*np.pi*rt),-np.inf,np.inf)[0]/rt\n",
    "var_t=quad(lambda x: np.exp(-.5*x**2/rt)*ft(x)**2/np.sqrt(2*np.pi*rt),-np.inf,np.inf)[0]\n",
    "ks_t=np.sqrt(np.maximum(var_t-rt*k1_t**2,0))"
   ]
  },
  {
   "cell_type": "code",
   "execution_count": 7,
   "id": "institutional-rebate",
   "metadata": {},
   "outputs": [],
   "source": [
    "theta=np.random.randn(k2)/np.sqrt(k2)\n",
    "W1=np.random.randn(k1,d)/np.sqrt(d)\n",
    "W2=np.random.randn(k2,k1)/np.sqrt(k1)\n"
   ]
  },
  {
   "cell_type": "code",
   "execution_count": 8,
   "id": "lonely-coupon",
   "metadata": {},
   "outputs": [],
   "source": [
    "\n",
    "\n",
    "Omega=np.eye(d)  "
   ]
  },
  {
   "cell_type": "code",
   "execution_count": 9,
   "id": "duplicate-telephone",
   "metadata": {},
   "outputs": [],
   "source": [
    "Phi=k1_1*k1_2*np.diag(Sigma)@W1.T@W2.T"
   ]
  },
  {
   "cell_type": "code",
   "execution_count": 10,
   "id": "tender-lecture",
   "metadata": {},
   "outputs": [],
   "source": [
    "def error_lamb(log_lamb,alpha,data_model):\n",
    "    experiment = CustomExperiment(task = 'logistic_regression', \n",
    "                                  regularisation = 10**(-log_lamb), \n",
    "                                  data_model = data_model, \n",
    "                                  tolerance = 1e-6, \n",
    "                                  damping = 0.5, \n",
    "                                  verbose = False, \n",
    "                                  max_steps = 10000)\n",
    "    \n",
    "    experiment.learning_curve(alphas =[alpha])\n",
    "    \n",
    "    return experiment.get_curve()[\"test_error\"].values[0]"
   ]
  },
  {
   "cell_type": "code",
   "execution_count": 15,
   "id": "returning-taxation",
   "metadata": {},
   "outputs": [],
   "source": [
    "def replica(alphas,Omega, Phi,lamb=0.1,verbose=False,opt_reg=False):   \n",
    "    \n",
    "    data_model=data_model=CustomSpectra(  rho=k1_1**2*k1_2**2+k1_2**2*ks_1**2+ks_2**2,\n",
    "                                  spec_Omega = np.array([1]), \n",
    "                               spec_UPhiPhitUT=np.array([k2/d*k1_1**2*k1_2**2]), \n",
    "                               gamma=k2/d)\n",
    "    \n",
    "    if opt_reg:\n",
    "        minimization=minimize_scalar(error_lamb, (-1,3),args=(alphas[0], data_model),tol=1e-4, \n",
    "                                     method=\"bounded\", bounds=(-1,3))\n",
    "        log_lamb=minimization.x\n",
    "        lamb=10**(-log_lamb)\n",
    "    \n",
    "    experiment = CustomExperiment(task = 'logistic_regression', \n",
    "                                  regularisation = lamb, \n",
    "                                  data_model = data_model, \n",
    "                                  tolerance = 1e-6, \n",
    "                                  damping = 0.2, \n",
    "                                  verbose = verbose, \n",
    "                                  max_steps = 10000)\n",
    "    \n",
    "    \n",
    "    \n",
    "    experiment.learning_curve(alphas =[alphas[0]])\n",
    "    replicas=experiment.get_curve()\n",
    "\n",
    "\n",
    "    for i in range(1,len(alphas)):\n",
    "        print(\"sample\",alphas[i])\n",
    "        print(replicas[\"test_error\"])\n",
    "        \"\"\"\n",
    "        experiment = CustomExperiment(task = 'logistic_regression', \n",
    "                                  regularisation = lamb, \n",
    "                                  data_model = data_model, \n",
    "                                  tolerance = 1e-9, \n",
    "                                  damping = 0.2, \n",
    "                                  verbose = verbose, \n",
    "                                  max_steps = 10000)\n",
    "                                  \n",
    "                                  \n",
    "        \"\"\"\n",
    "        \n",
    "        if opt_reg:\n",
    "            minimization=minimize_scalar(error_lamb, (-1,3),args=(alphas[i], data_model),tol=1e-4, \n",
    "                                     method=\"bounded\", bounds=(-1,3))\n",
    "            log_lamb=minimization.x\n",
    "            lamb=10**(-log_lamb)\n",
    "        \n",
    "        experiment = CustomExperiment(task = 'logistic_regression', \n",
    "                                  regularisation = lamb, \n",
    "                                  data_model = data_model, \n",
    "                                  tolerance = 1e-6, \n",
    "                                  damping = 0.2, \n",
    "                                  verbose = verbose, \n",
    "                                  max_steps = 10000)\n",
    "        experiment.learning_curve(alphas =[alphas[i]])\n",
    "        replicas=pd.concat([replicas,experiment.get_curve()])\n",
    "        \n",
    "\n",
    "    \n",
    "    return replicas"
   ]
  },
  {
   "cell_type": "code",
   "execution_count": 17,
   "id": "pregnant-honduras",
   "metadata": {},
   "outputs": [],
   "source": [
    "alphas=np.linspace(.1,7,4)"
   ]
  },
  {
   "cell_type": "code",
   "execution_count": 18,
   "id": "amended-florist",
   "metadata": {},
   "outputs": [
    {
     "name": "stdout",
     "output_type": "stream",
     "text": [
      "sample 2.4000000000000004\n",
      "0    0.441938\n",
      "Name: test_error, dtype: float64\n",
      "sample 4.7\n",
      "0    0.441938\n",
      "0    0.267492\n",
      "Name: test_error, dtype: float64\n",
      "sample 7.0\n",
      "0    0.441938\n",
      "0    0.267492\n",
      "0    0.228159\n",
      "Name: test_error, dtype: float64\n"
     ]
    }
   ],
   "source": [
    "repl=replica(alphas,Omega, Phi,opt_reg=False,lamb=0.1)"
   ]
  },
  {
   "cell_type": "code",
   "execution_count": 19,
   "id": "manufactured-transportation",
   "metadata": {},
   "outputs": [
    {
     "data": {
      "text/plain": [
       "[<matplotlib.lines.Line2D at 0x14cef0f6c70>]"
      ]
     },
     "execution_count": 19,
     "metadata": {},
     "output_type": "execute_result"
    },
    {
     "data": {
      "image/png": "[encoded data removed]",
      "text/plain": [
       "<Figure size 432x288 with 1 Axes>"
      ]
     },
     "metadata": {
      "needs_background": "light"
     },
     "output_type": "display_data"
    }
   ],
   "source": [
    "plt.plot(repl[\"sample_complexity\"],repl[\"test_error\"])"
   ]
  },
  {
   "cell_type": "code",
   "execution_count": null,
   "id": "entire-cradle",
   "metadata": {},
   "outputs": [],
   "source": []
  }
 ],
 "metadata": {
  "kernelspec": {
   "display_name": "Python 3",
   "language": "python",
   "name": "python3"
  },
  "language_info": {
   "codemirror_mode": {
    "name": "ipython",
    "version": 3
   },
   "file_extension": ".py",
   "mimetype": "text/x-python",
   "name": "python",
   "nbconvert_exporter": "python",
   "pygments_lexer": "ipython3",
   "version": "3.8.8"
  }
 },
 "nbformat": 4,
 "nbformat_minor": 5
}
