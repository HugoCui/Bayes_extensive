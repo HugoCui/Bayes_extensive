{
 "cells": [
  {
   "cell_type": "code",
   "execution_count": 1,
   "id": "logical-bracket",
   "metadata": {},
   "outputs": [],
   "source": [
    "import numpy as np\n",
    "import matplotlib.pyplot as plt\n",
    "from math import*\n",
    "from scipy.integrate import quad"
   ]
  },
  {
   "cell_type": "code",
   "execution_count": 2,
   "id": "biblical-nepal",
   "metadata": {},
   "outputs": [],
   "source": [
    "def get_kappas(f,Sigma,sigma_w):\n",
    "    r=sigma_w**2*np.mean(Sigma)\n",
    "\n",
    "    k1=quad(lambda x: np.exp(-.5*x**2/r)*x*f(x)/np.sqrt(2*np.pi*r),-np.inf,np.inf)[0]/r\n",
    "\n",
    "\n",
    "    var=quad(lambda x: np.exp(-.5*x**2/r)*f(x)**2/np.sqrt(2*np.pi*r),-np.inf,np.inf)[0]\n",
    "    ks=np.sqrt(var-r*k1**2)\n",
    "\n",
    "    k1,ks=k1**2,ks**2\n",
    "    \n",
    "    return k1,ks\n",
    "    "
   ]
  },
  {
   "cell_type": "code",
   "execution_count": 4,
   "id": "earned-preliminary",
   "metadata": {},
   "outputs": [
    {
     "name": "stdout",
     "output_type": "stream",
     "text": [
      "$\\rho_a=1.0  \\rho_w=1.0$\n"
     ]
    }
   ],
   "source": [
    "d=500\n",
    "k=1500  #width of STUDENT RF\n",
    "\n",
    "gamma=k/d\n",
    "sigma_w=sigma_a=1.\n",
    "\n",
    "Delta=.000\n",
    "\n",
    "\n",
    "Sigma=np.ones(d)\n",
    "\n",
    "\n",
    "k1s,kss=get_kappas(f=lambda x: np.tanh(2*x),Sigma=Sigma,sigma_w=sigma_w) #student kappas\n",
    "k1,ks=get_kappas(f=lambda x: np.tanh(2*x),Sigma=Sigma,sigma_w=sigma_w)\n",
    "\n",
    "\n",
    "\n",
    "\n",
    "F=np.random.randn(k,d)/np.sqrt(d)*sigma_w\n",
    "\n",
    "Omega,U=np.linalg.eigh(k1s*F@np.diag(Sigma)@F.T+kss*np.eye(k))\n",
    "PhiPhiT=np.real(np.diag(U.T@(np.sqrt(k1s*k1)*F@np.diag(Sigma)**2@F.T)@U))\n",
    "\n",
    "rhow=np.sum(Sigma)/d*sigma_a**2*sigma_w**2\n",
    "rhoa=sigma_a**2\n",
    "\n",
    "\n",
    "print(r\"$\\rho_a={}  \\rho_w={}$\".format(rhoa,rhow))\n",
    "\n"
   ]
  },
  {
   "cell_type": "code",
   "execution_count": 6,
   "id": "dietary-suspect",
   "metadata": {},
   "outputs": [],
   "source": [
    "sigma=1.\n",
    "phi=lambda x: np.tanh(2*x)\n",
    "\n",
    "\n",
    "\n",
    "f=phi\n",
    "r1=sigma\n",
    "\n",
    "k11=quad(lambda x: np.exp(-.5*x**2/r1)*x*f(x)/np.sqrt(2*np.pi*r1),-np.inf,np.inf)[0]/r1\n",
    "\n",
    "\n",
    "var1=quad(lambda x: np.exp(-.5*x**2/r1)*f(x)**2/np.sqrt(2*np.pi*r1),-np.inf,np.inf)[0]\n",
    "ks1=np.sqrt(var1-r1*k11**2)\n",
    "\n",
    "k11,ks1=k11**2,ks1**2\n",
    "\n",
    "r2=sigma*var1\n",
    "\n",
    "k12=quad(lambda x: np.exp(-.5*x**2/r2)*x*f(x)/np.sqrt(2*np.pi*r2),-np.inf,np.inf)[0]/r2\n",
    "\n",
    "\n",
    "var2=quad(lambda x: np.exp(-.5*x**2/r2)*f(x)**2/np.sqrt(2*np.pi*r2),-np.inf,np.inf)[0]\n",
    "ks2=np.sqrt(var2-r2*k12**2)\n",
    "\n",
    "k12,ks2=k12**2,ks2**2\n",
    "\n"
   ]
  },
  {
   "cell_type": "code",
   "execution_count": 7,
   "id": "marked-renaissance",
   "metadata": {},
   "outputs": [],
   "source": [
    "def update_overlaps(Vhat,qhat,mhat,lamb):\n",
    "    V=np.mean(Omega/(lamb+Vhat*Omega))\n",
    "    q=np.mean((mhat**2*Omega*PhiPhiT+qhat*Omega**2)/(lamb+Vhat*Omega)**2)\n",
    "    m=np.sqrt(gamma)*sigma_w**2*sigma_a**2*mhat*np.mean(PhiPhiT/(lamb+Vhat*Omega))\n",
    "    \n",
    "    return V,q,m"
   ]
  },
  {
   "cell_type": "code",
   "execution_count": 8,
   "id": "monthly-purchase",
   "metadata": {},
   "outputs": [],
   "source": [
    "def update_hat_overlaps(alpha, V,q,m):\n",
    "    Vhat=alpha/(1+V)\n",
    "    mhat=np.sqrt(gamma)*Vhat*np.sqrt(k11*k12)\n",
    "    qhat=alpha*(k11*k12+ks1*k12+ks2+q-2*np.sqrt(k11*k12)*m+Delta)/(1+V)**2\n",
    "    \n",
    "    return Vhat,qhat,mhat\n",
    "    \n",
    "    "
   ]
  },
  {
   "cell_type": "code",
   "execution_count": 9,
   "id": "original-stage",
   "metadata": {},
   "outputs": [],
   "source": [
    "damping=0.1\n",
    "\n",
    "def damp(new, old):\n",
    "        return (1-damping) * new + damping * old"
   ]
  },
  {
   "cell_type": "code",
   "execution_count": 10,
   "id": "opponent-shape",
   "metadata": {},
   "outputs": [],
   "source": [
    "\n",
    "\n",
    "def iterate(alpha,lamb,max_iter=10000,tol=1e-12,init=None,verbose=False):\n",
    "    last_flip=None\n",
    "    V,q,m=1,.7, .7\n",
    "    Vhat,qhat,mhat=0,0,0\n",
    "    for i in range(max_iter):\n",
    "        Vhat,qhat,mhat=update_hat_overlaps(alpha,V,q,m)\n",
    "        V_tmp,q_tmp,m_tmp=update_overlaps(Vhat,qhat,mhat,lamb)\n",
    "        if max([np.abs(V_tmp-V),np.abs(q_tmp-q),np.abs(m_tmp-m)])<tol:\n",
    "            if verbose:\n",
    "                print(\"convcerged after {} steps\".format(i))\n",
    "            return V,q,m,Vhat,qhat,mhat\n",
    "        \n",
    "        V=damp(V_tmp,V)\n",
    "        q=damp(q_tmp,q)\n",
    "        m=damp(m_tmp,m)\n",
    "       \n",
    "        \n",
    "        if verbose:\n",
    "            print(\"V{} q{} m{} Vhat{} qhat{} mhat{}\".format(V,q,m,Vhat,qhat,mhat))\n",
    "        \n",
    "        \n",
    "        \n",
    "    print(alpha, \"Not converged\")\n",
    "\n",
    "    return V,q,m,Vhat,qhat,mhat\n",
    "        \n",
    "        \n",
    "        "
   ]
  },
  {
   "cell_type": "code",
   "execution_count": 11,
   "id": "convertible-springfield",
   "metadata": {},
   "outputs": [],
   "source": [
    "def get_error(alphas,lamb):\n",
    "    Eg=[]\n",
    "    V=[]\n",
    "    Q=[]\n",
    "    M=[]\n",
    "    for alpha in alphas:\n",
    "        v,q,m,_,_,_=iterate(alpha,lamb)\n",
    "         #print(\"V{} q{} m{} \".format(v,q,m))\n",
    "        eg=(k11*k12+ks1*k12+ks2+q-2*np.sqrt(k11*k12)*m+Delta)\n",
    "        Eg.append(eg)\n",
    "        V.append(v)\n",
    "        M.append(m)\n",
    "        Q.append(q)\n",
    "        \n",
    "    return Eg,V,Q,M\n",
    "        \n",
    "        \n",
    "        \n",
    "        "
   ]
  },
  {
   "cell_type": "code",
   "execution_count": 12,
   "id": "saving-stadium",
   "metadata": {},
   "outputs": [],
   "source": [
    "from scipy.optimize import minimize_scalar\n",
    "\n",
    "def error_lamb(log_lamb,alpha):\n",
    "    v,q,m,_,_,_=iterate(alpha,10**(-log_lamb))\n",
    "         #print(\"V{} q{} m{} \".format(v,q,m))\n",
    "    eg=(k11*k12+ks1*k12+ks2+q-2*np.sqrt(k11*k12)*m+Delta)\n",
    "    return eg\n",
    "\n",
    "def get_opt_error(alphas):\n",
    "    Eg=[]\n",
    "    V=[]\n",
    "    Q=[]\n",
    "    M=[]\n",
    "    L=[]\n",
    "    for alpha in alphas/gamma:\n",
    "        \n",
    "        minimization=minimize_scalar(error_lamb, (-3,10),args=(alpha),tol=1e-12)\n",
    "        log_lamb=minimization.x\n",
    "        lamb=10**(-log_lamb)\n",
    "        #print(lamb)\n",
    "        v,q,m,_,_,_=iterate(alpha,.2)\n",
    "         #print(\"V{} q{} m{} \".format(v,q,m))\n",
    "        eg=(k11*k12+ks1*k12+ks2+q-2*np.sqrt(k11*k12)*m+Delta)\n",
    "        Eg.append(eg)\n",
    "        V.append(v)\n",
    "        M.append(m)\n",
    "        Q.append(q)\n",
    "        L.append(lamb)\n",
    "        \n",
    "    return Eg,V,Q,M,L\n",
    "        \n",
    "        \n",
    "        \n",
    "        \n",
    "    "
   ]
  },
  {
   "cell_type": "code",
   "execution_count": 13,
   "id": "headed-magnet",
   "metadata": {},
   "outputs": [
    {
     "name": "stdout",
     "output_type": "stream",
     "text": [
      "0.06666666666666667 Not converged\n",
      "0.06666666666666667 Not converged\n",
      "0.26666666666666666 Not converged\n",
      "0.49999999999999994 Not converged\n",
      "1.0 Not converged\n"
     ]
    }
   ],
   "source": [
    "alphas=np.linspace(.2,7.1,70)\n",
    "Eg,V,Q,M,L=get_opt_error(alphas)"
   ]
  },
  {
   "cell_type": "code",
   "execution_count": 14,
   "id": "inner-county",
   "metadata": {},
   "outputs": [
    {
     "data": {
      "text/plain": [
       "[<matplotlib.lines.Line2D at 0x177a6da44c0>]"
      ]
     },
     "execution_count": 14,
     "metadata": {},
     "output_type": "execute_result"
    },
    {
     "data": {
      "image/png": "[encoded data removed]",
      "text/plain": [
       "<Figure size 432x288 with 1 Axes>"
      ]
     },
     "metadata": {
      "needs_background": "light"
     },
     "output_type": "display_data"
    }
   ],
   "source": [
    "plt.plot(alphas,Eg)"
   ]
  }
 ],
 "metadata": {
  "kernelspec": {
   "display_name": "Python 3",
   "language": "python",
   "name": "python3"
  },
  "language_info": {
   "codemirror_mode": {
    "name": "ipython",
    "version": 3
   },
   "file_extension": ".py",
   "mimetype": "text/x-python",
   "name": "python",
   "nbconvert_exporter": "python",
   "pygments_lexer": "ipython3",
   "version": "3.8.8"
  }
 },
 "nbformat": 4,
 "nbformat_minor": 5
}
