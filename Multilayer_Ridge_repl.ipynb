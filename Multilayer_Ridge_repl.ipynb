{
 "cells": [
  {
   "cell_type": "code",
   "execution_count": 1,
   "id": "logical-bracket",
   "metadata": {},
   "outputs": [],
   "source": [
    "import numpy as np\n",
    "import matplotlib.pyplot as plt\n",
    "from math import*\n",
    "from scipy.integrate import quad"
   ]
  },
  {
   "cell_type": "code",
   "execution_count": 2,
   "id": "earned-preliminary",
   "metadata": {},
   "outputs": [],
   "source": [
    "d=500\n",
    "k=700\n",
    "\n",
    "gamma=k/d\n",
    "\n",
    "\n",
    "Sigma=np.ones(d)\n",
    "\n",
    "sigma_w=sigma_a=1.\n",
    "\n",
    "Delta=.000\n",
    "\n",
    "\n",
    "\n"
   ]
  },
  {
   "cell_type": "code",
   "execution_count": 3,
   "id": "funky-lloyd",
   "metadata": {},
   "outputs": [],
   "source": [
    "sigma=1.\n",
    "phi=lambda x: np.tanh(2*x)\n",
    "\n",
    "\n",
    "\n",
    "f=phi\n",
    "r1=sigma\n",
    "\n",
    "k11=quad(lambda x: np.exp(-.5*x**2/r1)*x*f(x)/np.sqrt(2*np.pi*r1),-np.inf,np.inf)[0]/r1\n",
    "\n",
    "\n",
    "var1=quad(lambda x: np.exp(-.5*x**2/r1)*f(x)**2/np.sqrt(2*np.pi*r1),-np.inf,np.inf)[0]\n",
    "ks1=np.sqrt(var1-r1*k11**2)\n",
    "\n",
    "k11,ks1=k11**2,ks1**2\n",
    "\n",
    "r2=sigma*var1\n",
    "\n",
    "k12=quad(lambda x: np.exp(-.5*x**2/r2)*x*f(x)/np.sqrt(2*np.pi*r2),-np.inf,np.inf)[0]/r2\n",
    "\n",
    "\n",
    "var2=quad(lambda x: np.exp(-.5*x**2/r2)*f(x)**2/np.sqrt(2*np.pi*r2),-np.inf,np.inf)[0]\n",
    "ks2=np.sqrt(var2-r2*k12**2)\n",
    "\n",
    "k12,ks2=k12**2,ks2**2\n",
    "\n"
   ]
  },
  {
   "cell_type": "code",
   "execution_count": 4,
   "id": "marked-renaissance",
   "metadata": {},
   "outputs": [],
   "source": [
    "def update_overlaps(Vhat,qhat,mhat,lamb):\n",
    "    V=np.mean(Sigma/(lamb+Vhat*Sigma))\n",
    "    q=np.mean((mhat**2*Sigma**3+qhat*Sigma**2)/(lamb+Vhat*Sigma)**2)\n",
    "    m=sigma_w**2*sigma_a**2*mhat*np.mean(Sigma**2/(lamb+Vhat*Sigma))\n",
    "    \n",
    "    return V,q,m"
   ]
  },
  {
   "cell_type": "code",
   "execution_count": 5,
   "id": "monthly-purchase",
   "metadata": {},
   "outputs": [],
   "source": [
    "def update_hat_overlaps(alpha, V,q,m):\n",
    "    Vhat=alpha/(1+V)\n",
    "    mhat=np.sqrt(k11*k12)*Vhat\n",
    "    qhat=alpha*(k11*k12+ks1*k12+ks2+q-2*np.sqrt(k11*k12)*m+Delta)/(1+V)**2\n",
    "    \n",
    "    return Vhat,qhat,mhat\n",
    "    \n",
    "    "
   ]
  },
  {
   "cell_type": "code",
   "execution_count": 6,
   "id": "original-stage",
   "metadata": {},
   "outputs": [],
   "source": [
    "damping=0.1\n",
    "\n",
    "def damp(new, old):\n",
    "        return (1-damping) * new + damping * old"
   ]
  },
  {
   "cell_type": "code",
   "execution_count": 7,
   "id": "opponent-shape",
   "metadata": {},
   "outputs": [],
   "source": [
    "\n",
    "\n",
    "def iterate(alpha,lamb,max_iter=10000,tol=1e-15,init=None,verbose=False):\n",
    "    last_flip=None\n",
    "    V,q,m=100,.000001, .0000001\n",
    "    Vhat,qhat,mhat=0,0,0\n",
    "    for i in range(max_iter):\n",
    "        Vhat,qhat,mhat=update_hat_overlaps(alpha,V,q,m)\n",
    "        V_tmp,q_tmp,m_tmp=update_overlaps(Vhat,qhat,mhat,lamb)\n",
    "        if max([np.abs(V_tmp-V),np.abs(q_tmp-q),np.abs(m_tmp-m)])<tol:\n",
    "            if verbose:\n",
    "                print(\"convcerged after {} steps\".format(i))\n",
    "            #print(alpha, lamb,\"converged\")\n",
    "            return V,q,m,Vhat,qhat,mhat\n",
    "        \n",
    "        V=damp(V_tmp,V)\n",
    "        q=damp(q_tmp,q)\n",
    "        m=damp(m_tmp,m)\n",
    "       \n",
    "        \n",
    "        if verbose:\n",
    "            print(\"V{} q{} m{} Vhat{} qhat{} mhat{}\".format(V,q,m,Vhat,qhat,mhat))\n",
    "        \n",
    "        \n",
    "        \n",
    "    print(alpha, lamb,\"Not converged\")\n",
    "\n",
    "    return V,q,m,Vhat,qhat,mhat\n",
    "        \n",
    "        \n",
    "        "
   ]
  },
  {
   "cell_type": "code",
   "execution_count": 8,
   "id": "convertible-springfield",
   "metadata": {},
   "outputs": [],
   "source": [
    "def get_error(alphas,lamb):\n",
    "    Eg=[]\n",
    "    V=[]\n",
    "    Q=[]\n",
    "    M=[]\n",
    "    for alpha in alphas:\n",
    "        v,q,m,_,_,_=iterate(alpha,lamb)\n",
    "         #print(\"V{} q{} m{} \".format(v,q,m))\n",
    "        eg=(k11*k12+ks1*k12+ks2+q-2*np.sqrt(k11*k12)*m+Delta)\n",
    "        Eg.append(eg)\n",
    "        V.append(v)\n",
    "        M.append(m)\n",
    "        Q.append(q)\n",
    "        \n",
    "    return Eg,V,Q,M\n",
    "        \n",
    "        \n",
    "        \n",
    "        "
   ]
  },
  {
   "cell_type": "code",
   "execution_count": 9,
   "id": "saving-stadium",
   "metadata": {},
   "outputs": [],
   "source": [
    "from scipy.optimize import minimize_scalar\n",
    "\n",
    "def error_lamb(log_lamb,alpha):\n",
    "    v,q,m,_,_,_=iterate(alpha,10**(-log_lamb))\n",
    "         #print(\"V{} q{} m{} \".format(v,q,m))\n",
    "    eg=(k11*k12+ks1*k12+ks2+q-2*np.sqrt(k11*k12)*m+Delta)\n",
    "    return eg\n",
    "\n",
    "def get_opt_error(alphas):\n",
    "    Eg=[]\n",
    "    V=[]\n",
    "    Q=[]\n",
    "    M=[]\n",
    "    L=[]\n",
    "    for alpha in alphas:\n",
    "        minimization=minimize_scalar(error_lamb, (-3,12),args=(alpha),tol=1e-8)\n",
    "        log_lamb=minimization.x\n",
    "        lamb=10**(-log_lamb)\n",
    "        print(lamb,(ks1*k12+ks2)/k11/k12)\n",
    "        v,q,m,_,_,_=iterate(alpha,lamb)\n",
    "         #print(\"V{} q{} m{} \".format(v,q,m))\n",
    "        eg=(k11*k12+ks1*k12+ks2+q-2*np.sqrt(k11*k12)*m+Delta)\n",
    "        Eg.append(eg)\n",
    "        V.append(v)\n",
    "        M.append(m)\n",
    "        Q.append(q)\n",
    "        L.append(lamb)\n",
    "        \n",
    "    return Eg,V,Q,M,L\n",
    "        \n",
    "        \n",
    "        \n",
    "        \n",
    "    "
   ]
  },
  {
   "cell_type": "code",
   "execution_count": 10,
   "id": "headed-magnet",
   "metadata": {},
   "outputs": [
    {
     "name": "stdout",
     "output_type": "stream",
     "text": [
      "5.3640197010758954e-37 0.37278944844792183\n",
      "0.10289855072463767 1e-12 Not converged\n",
      "0.10289855072463767 1e-12 Not converged\n",
      "0.3727894431556303 0.37278944844792183\n",
      "0.20579710144927535 0.001864273484490313 Not converged\n",
      "0.3727894534631697 0.37278944844792183\n",
      "0.37278944337557574 0.37278944844792183\n",
      "0.4115942028985507 0.041981583234417766 Not converged\n",
      "0.37278943978233864 0.37278944844792183\n",
      "0.3727894605049126 0.37278944844792183\n",
      "0.6173913043478261 5.364015201966557e-07 Not converged\n",
      "0.3727894394112889 0.37278944844792183\n",
      "0.3727894439636981 0.37278944844792183\n",
      "0.372789445133861 0.37278944844792183\n",
      "0.9260869565217391 0.0018642751042789358 Not converged\n",
      "0.3727894483203243 0.37278944844792183\n",
      "0.37278946126890833 0.37278944844792183\n",
      "0.37278945472101893 0.37278944844792183\n",
      "0.3727894372374932 0.37278944844792183\n",
      "0.37278943569201906 0.37278944844792183\n",
      "0.372789429456549 0.37278944844792183\n",
      "0.372789445059044 0.37278944844792183\n",
      "0.37278944928656793 0.37278944844792183\n",
      "0.3727894702333978 0.37278944844792183\n",
      "0.3727894642481344 0.37278944844792183\n",
      "0.37278945877175945 0.37278944844792183\n",
      "0.37278944778460693 0.37278944844792183\n",
      "0.37278944848128553 0.37278944844792183\n",
      "0.3727894738441592 0.37278944844792183\n",
      "0.3727894534688083 0.37278944844792183\n",
      "0.37278944427417415 0.37278944844792183\n",
      "0.3727894671973961 0.37278944844792183\n",
      "0.372789451541953 0.37278944844792183\n",
      "0.3727894564314401 0.37278944844792183\n",
      "0.372789448022516 0.37278944844792183\n",
      "0.37278949056368077 0.37278944844792183\n",
      "0.37278944892391747 0.37278944844792183\n",
      "0.3727894557808303 0.37278944844792183\n",
      "0.37278940981463404 0.37278944844792183\n",
      "0.37278944270758074 0.37278944844792183\n",
      "0.3727894461713489 0.37278944844792183\n",
      "0.37278944514526907 0.37278944844792183\n",
      "0.3727894462137767 0.37278944844792183\n",
      "0.37278943480092147 0.37278944844792183\n",
      "0.37278946156877807 0.37278944844792183\n",
      "0.3727894438448926 0.37278944844792183\n",
      "0.37278939438991543 0.37278944844792183\n",
      "0.37278944534632735 0.37278944844792183\n",
      "0.37278944093061855 0.37278944844792183\n",
      "0.3727894494773042 0.37278944844792183\n",
      "0.37278944782387796 0.37278944844792183\n",
      "0.37278944044222573 0.37278944844792183\n",
      "0.3727894275366675 0.37278944844792183\n",
      "0.3727894232195913 0.37278944844792183\n",
      "0.3727894547816843 0.37278944844792183\n",
      "0.3727894281787428 0.37278944844792183\n",
      "0.3727894786498202 0.37278944844792183\n",
      "0.3727894526081322 0.37278944844792183\n",
      "0.37278937278694513 0.37278944844792183\n",
      "0.37278942575597396 0.37278944844792183\n",
      "0.37278945967249755 0.37278944844792183\n",
      "0.3727894131487783 0.37278944844792183\n",
      "0.37278943392391845 0.37278944844792183\n",
      "0.37278944142058507 0.37278944844792183\n",
      "0.3727894186326296 0.37278944844792183\n",
      "0.3727894061588812 0.37278944844792183\n",
      "0.37278950478558814 0.37278944844792183\n",
      "0.3727894483299568 0.37278944844792183\n",
      "0.37278942180914515 0.37278944844792183\n",
      "0.3727893975898823 0.37278944844792183\n",
      "0.3727894049958315 0.37278944844792183\n",
      "0.3727894468982316 0.37278944844792183\n",
      "0.3727894246094775 0.37278944844792183\n",
      "0.3727894048370107 0.37278944844792183\n",
      "0.3727894439906986 0.37278944844792183\n",
      "0.372789427521573 0.37278944844792183\n"
     ]
    }
   ],
   "source": [
    "alphas=np.linspace(.0,7.1,70)\n",
    "Eg,V,Q,M,L=get_opt_error(alphas)"
   ]
  },
  {
   "cell_type": "code",
   "execution_count": 11,
   "id": "appropriate-scott",
   "metadata": {},
   "outputs": [
    {
     "data": {
      "text/plain": [
       "[<matplotlib.lines.Line2D at 0x1431844e640>]"
      ]
     },
     "execution_count": 11,
     "metadata": {},
     "output_type": "execute_result"
    },
    {
     "data": {
      "image/png": "[encoded data removed]",
      "text/plain": [
       "<Figure size 432x288 with 1 Axes>"
      ]
     },
     "metadata": {
      "needs_background": "light"
     },
     "output_type": "display_data"
    }
   ],
   "source": [
    "plt.plot(alphas,np.array(Eg), label=\"Ridge\")\n"
   ]
  },
  {
   "cell_type": "code",
   "execution_count": null,
   "id": "green-career",
   "metadata": {},
   "outputs": [],
   "source": []
  }
 ],
 "metadata": {
  "kernelspec": {
   "display_name": "Python 3",
   "language": "python",
   "name": "python3"
  },
  "language_info": {
   "codemirror_mode": {
    "name": "ipython",
    "version": 3
   },
   "file_extension": ".py",
   "mimetype": "text/x-python",
   "name": "python",
   "nbconvert_exporter": "python",
   "pygments_lexer": "ipython3",
   "version": "3.8.8"
  }
 },
 "nbformat": 4,
 "nbformat_minor": 5
}
